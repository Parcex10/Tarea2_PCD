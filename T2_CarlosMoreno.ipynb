# Proyecto de Ciencia de Datos

**Carrera:** Ingeniería y Ciencia de Datos

**Estudiante:** Carlos Alberto Moreno Labrador

**Tarea:** Resumen de Machine Learning Operations (MLOps)

**Descripción:** Resumen detallado con temática de Inteligencia Artificial, extraído de un artículo publicado por AWS, donde se centra en la explicación de operaciones y flujos de trabajo.

**Enlace:** https://aws.amazon.com/es/what-is/mlops/

