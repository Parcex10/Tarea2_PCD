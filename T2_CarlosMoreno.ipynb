# Proyecto de Ciencia de Datos

**Carrera:** Ingeniería y Ciencia de Datos

**Estudiante:** Carlos Alberto Moreno Labrador

**Tarea:** Resumen de Machine Learning Operations (MLOps)

**Descripción:** Resumen detallado con temática de Inteligencia Artificial, extraído de un artículo publicado por AWS, donde se centra en la explicación de operaciones y flujos de trabajo.

**Enlace:** https://aws.amazon.com/es/what-is/mlops/


## Definición

MLOps (Machine Learning Operations) es un conjunto de prácticas que automatizan y simplifican
el ciclo de vida del machine learning (ML). MLOps integra el desarrollo y la operación de modelos de ML, desde
la preparación de datos hasta la implementación y monitoreo en producción, con el objetivo de mejorar la eficiencia,
escalabilidad y reproducibilidad de los proyectos de ML.


## Necesidad

En el ciclo de vida del ML, se requiere preparar datos, entrenar modelos, y validar y desplegar estos modelos como
servicios accesibles por otras aplicaciones. MLOps automatiza y estandariza estos procesos, facilitando la gestión
simultánea de versiones de modelos y cambios en los datos y código de las aplicaciones.

## Principios clave de MLOps:

1.  **Control de Versiones:**

Implica rastrear cambios en los activos de ML, permitiendo la replicación de resultados y reutilización de versiones
anteriores de modelos y datos.

2. **Automatización:**

Automatiza las etapas de la canalización de ML, desde la ingesta de datos hasta la implementación, garantizando la
consistencia y escalabilidad del proceso.

3. **Actividades Continuas:**

Incluyen la integración continua, la entrega continua, el entrenamiento continuo, y el monitoreo continuo,
asegurando la adaptación rápida a cambios en datos o código.

4. **Gobernanza de Modelos:**

Gestiona todos los aspectos relacionados con los sistemas de ML, promoviendo la colaboración,
protección de datos, y cumplimiento de normativas, además de asegurar la validación y aprobación de modelos antes de su uso.

## Beneficios de MLOps:

- **Reducción del Plazo de Comercialización:**
Proporciona un marco eficiente para alcanzar objetivos de ciencia de datos, acelerando el desarrollo y
despliegue de modelos con menores costos operativos.

- **Mejora de la Productividad:**
Facilita la estandarización de entornos y reutilización de modelos, incrementando la eficiencia y
coordinación en los equipos de desarrollo de ML.

- **Eficiencia en la Implementación de Modelos:**
Mejora la gestión de versiones y rendimiento de modelos en producción, integrándolos en canalizaciones
CI/CD para mantener su calidad.

## Niveles de MLOps:

- **Nivel 0:**
Flujos de trabajo de ML manuales y gestionados por científicos de datos.
Caracterizado por la separación entre el desarrollo de modelos y su implementación.

- **Nivel 1:**
Implementa una canalización de entrenamiento automatizada para entrenar modelos de forma continua,
integrando componentes reutilizables y gestionando metadatos.

- **Nivel 2:**
Adecuado para organizaciones con múltiples canalizaciones de ML que requieren orquestación
y registro centralizado de modelos, con alta frecuencia de experimentación y despliegue.

## Diferencia con DevOps:

DevOps se enfoca en mejorar la colaboración entre desarrollo y operaciones en aplicaciones de software
tradicional, mientras que MLOps aplica estas prácticas al ciclo de vida del ML, gestionando los desafíos específicos del
modelado, entrenamiento, y despliegue de modelos de ML.

## Conclusión:

`MLOps` se ha convertido en un pilar fundamental para llevar proyectos de machine learning desde la experimentación hasta
la producción de manera eficiente y escalable. Al automatizar y estandarizar cada paso del ciclo del ML, MLOps permite a las
organizaciones responder rápidamente a cambios en los datos y mejorar continuamente sus modelos.
Esto no solo acelera el tiempo de comercialización, sino que también garantiza la **calidad** y **confianza** que podemos dejar
caer en los modelos en producción.

Nuestro entorno es cada vez más dependiente de la inteligencia artificial, y MLOps ofrece las herramientas necesarias para que
las empresas maximicen el valor de sus inversiones en machine learning, claro, siempre representando una misión **ética** que puede
ser replicable sin amenazar ningún área de la sociedad.