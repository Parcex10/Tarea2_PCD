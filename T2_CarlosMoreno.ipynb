# Proyecto de Ciencia de Datos

**Carrera:** Ingeniería y Ciencia de Datos

**Estudiante:** Carlos Alberto Moreno Labrador

**Tarea:** Resumen de Machine Learning Operations (MLOps)

**Descripción:** Resumen detallado con temática de Inteligencia Artificial, extraído de un artículo publicado por AWS, donde se centra en la explicación de operaciones y flujos de trabajo.

**Enlace:** https://aws.amazon.com/es/what-is/mlops/


## Definición

MLOps (Machine Learning Operations) es un conjunto de prácticas que automatizan y simplifican
el ciclo de vida del machine learning (ML). MLOps integra el desarrollo y la operación de modelos de ML, desde
la preparación de datos hasta la implementación y monitoreo en producción, con el objetivo de mejorar la eficiencia,
escalabilidad y reproducibilidad de los proyectos de ML.


## Necesidad

En el ciclo de vida del ML, se requiere preparar datos, entrenar modelos, y validar y desplegar estos modelos como
servicios accesibles por otras aplicaciones. MLOps automatiza y estandariza estos procesos, facilitando la gestión
simultánea de versiones de modelos y cambios en los datos y código de las aplicaciones.

## Principios clave de MLOps:

1.  **Control de Versiones:**

Implica rastrear cambios en los activos de ML, permitiendo la replicación de resultados y reutilización de versiones
anteriores de modelos y datos.

2. **Automatización:**

Automatiza las etapas de la canalización de ML, desde la ingesta de datos hasta la implementación, garantizando la
consistencia y escalabilidad del proceso.

3. **Actividades Continuas:**

Incluyen la integración continua, la entrega continua, el entrenamiento continuo, y el monitoreo continuo,
asegurando la adaptación rápida a cambios en datos o código.

4. **Gobernanza de Modelos:**

Gestiona todos los aspectos relacionados con los sistemas de ML, promoviendo la colaboración,
protección de datos, y cumplimiento de normativas, además de asegurar la validación y aprobación de modelos antes de su uso.

